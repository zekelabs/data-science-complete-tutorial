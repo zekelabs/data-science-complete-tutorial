{
 "cells": [
  {
   "cell_type": "markdown",
   "metadata": {},
   "source": [
    "\n",
    "### Initialization\n",
    "\n",
    "Numpy Array Creation Routines"
   ]
  },
  {
   "cell_type": "code",
   "execution_count": 1,
   "metadata": {},
   "outputs": [],
   "source": [
    "import numpy as np"
   ]
  },
  {
   "cell_type": "code",
   "execution_count": 2,
   "metadata": {},
   "outputs": [],
   "source": [
    "x = np.empty([3,3])"
   ]
  },
  {
   "cell_type": "code",
   "execution_count": 3,
   "metadata": {},
   "outputs": [
    {
     "data": {
      "text/plain": [
       "array([[0.00000000e+000, 0.00000000e+000, 6.94582274e-310],\n",
       "       [6.94582971e-310, 6.94582969e-310, 6.94582963e-310],\n",
       "       [6.94582965e-310, 6.94582971e-310, 3.95252517e-322]])"
      ]
     },
     "execution_count": 3,
     "metadata": {},
     "output_type": "execute_result"
    }
   ],
   "source": [
    "x"
   ]
  },
  {
   "cell_type": "markdown",
   "metadata": {},
   "source": [
    "An empty array initializes a numpy array with random values"
   ]
  },
  {
   "cell_type": "code",
   "execution_count": 4,
   "metadata": {},
   "outputs": [],
   "source": [
    "a = np.zeros((3,3,3))"
   ]
  },
  {
   "cell_type": "code",
   "execution_count": 5,
   "metadata": {},
   "outputs": [
    {
     "data": {
      "text/plain": [
       "array([[[0., 0., 0.],\n",
       "        [0., 0., 0.],\n",
       "        [0., 0., 0.]],\n",
       "\n",
       "       [[0., 0., 0.],\n",
       "        [0., 0., 0.],\n",
       "        [0., 0., 0.]],\n",
       "\n",
       "       [[0., 0., 0.],\n",
       "        [0., 0., 0.],\n",
       "        [0., 0., 0.]]])"
      ]
     },
     "execution_count": 5,
     "metadata": {},
     "output_type": "execute_result"
    }
   ],
   "source": [
    "a"
   ]
  },
  {
   "cell_type": "code",
   "execution_count": 6,
   "metadata": {},
   "outputs": [
    {
     "data": {
      "text/plain": [
       "array([[[1, 1, 1, 1],\n",
       "        [1, 1, 1, 1]],\n",
       "\n",
       "       [[1, 1, 1, 1],\n",
       "        [1, 1, 1, 1]]])"
      ]
     },
     "execution_count": 6,
     "metadata": {},
     "output_type": "execute_result"
    }
   ],
   "source": [
    "np.ones((2,2,4), dtype=int)"
   ]
  },
  {
   "cell_type": "markdown",
   "metadata": {},
   "source": [
    "By using dttype, we can set the type of values that the numpy array contains."
   ]
  },
  {
   "cell_type": "code",
   "execution_count": 7,
   "metadata": {},
   "outputs": [
    {
     "data": {
      "text/plain": [
       "array([['hellott', 'hellott'],\n",
       "       ['hellott', 'hellott']], dtype='<U7')"
      ]
     },
     "execution_count": 7,
     "metadata": {},
     "output_type": "execute_result"
    }
   ],
   "source": [
    "np.full((2,2),\"hellottwyyw\", dtype='<U7')"
   ]
  },
  {
   "cell_type": "markdown",
   "metadata": {},
   "source": [
    "Note : Only the first 7 characters of the input string were taken into the array elements when we set dtype = '<U7'"
   ]
  },
  {
   "cell_type": "code",
   "execution_count": 8,
   "metadata": {},
   "outputs": [
    {
     "data": {
      "text/plain": [
       "array([0.66726332, 0.43897927, 0.04688608, 0.93075331, 0.31688651,\n",
       "       0.53722039, 0.33152139, 0.53403819, 0.21897812, 0.02441027])"
      ]
     },
     "execution_count": 8,
     "metadata": {},
     "output_type": "execute_result"
    }
   ],
   "source": [
    "np.random.rand(10)"
   ]
  },
  {
   "cell_type": "code",
   "execution_count": 9,
   "metadata": {},
   "outputs": [],
   "source": [
    "data = np.random.randint(5,10,(10,10))"
   ]
  },
  {
   "cell_type": "markdown",
   "metadata": {},
   "source": [
    "### Accessing Numpy Arrays"
   ]
  },
  {
   "cell_type": "code",
   "execution_count": 10,
   "metadata": {},
   "outputs": [
    {
     "data": {
      "text/plain": [
       "array([[7, 5, 6, 5, 7, 6, 7, 5, 5, 8],\n",
       "       [5, 6, 7, 5, 8, 5, 8, 9, 8, 7],\n",
       "       [8, 5, 9, 9, 9, 6, 5, 8, 8, 6],\n",
       "       [7, 8, 7, 6, 8, 8, 6, 7, 5, 5]])"
      ]
     },
     "execution_count": 10,
     "metadata": {},
     "output_type": "execute_result"
    }
   ],
   "source": [
    "data[4:8]"
   ]
  },
  {
   "cell_type": "code",
   "execution_count": 11,
   "metadata": {},
   "outputs": [
    {
     "data": {
      "text/plain": [
       "array([[7, 6],\n",
       "       [8, 5],\n",
       "       [9, 6],\n",
       "       [8, 8]])"
      ]
     },
     "execution_count": 11,
     "metadata": {},
     "output_type": "execute_result"
    }
   ],
   "source": [
    "data[4:8,4:6]"
   ]
  },
  {
   "cell_type": "code",
   "execution_count": 12,
   "metadata": {},
   "outputs": [
    {
     "data": {
      "text/plain": [
       "array([[7, 6],\n",
       "       [8, 5]])"
      ]
     },
     "execution_count": 12,
     "metadata": {},
     "output_type": "execute_result"
    }
   ],
   "source": [
    "data[4:6,4:6]"
   ]
  },
  {
   "cell_type": "markdown",
   "metadata": {},
   "source": [
    "## Array Manipulation\n",
    "\n",
    "A list of functions is listed below for reference\n"
   ]
  },
  {
   "cell_type": "markdown",
   "metadata": {},
   "source": [
    "##### CHANGING SHAPE\n",
    "\n",
    "reshape - Gives new shape to an array without changing its data \n",
    "#flat - A 1-D iterator over the array\n",
    "#flatten - returns the copy of the array collapsed in one dimension\n",
    "#ravel - returns contiguous flattened array\n",
    "\n",
    "##### TRANSPOSE OPERATIONS: \n",
    "\n",
    "#transpose - permutes the dimnsions of the array\n",
    "#ndarray.T - same as self.transpose()\n",
    "#rollaxis - rolls the specified axis backwards\n",
    "#swapaxes - interchanges the two axes of an array\n",
    "\n",
    "##### CHANGING DIMENSIONS:\n",
    "\n",
    "#broadcast - Produces an object that mimics broadcasting\n",
    "#broadcast_to - broadcasts array to a new shape\n",
    "#expand_dims - expands the shape of an array\n",
    "#squeeze - Removes single dimensional entries from the shape of an array\n",
    "\n",
    "##### JOINING ARRAYS:\n",
    "\n",
    "#concatenate - Joins a sequence of arrays along an existing axis\n",
    "#stack - Joins a sequence of arrays along a new axis \n",
    "#hstack - Stacks arrays in sequence horizontally\n",
    "#vstack - stacks arrays in sequence vertically\n",
    "\n",
    "##### SPLITTING ARRAYS: \n",
    "\n",
    "#split - splits an array into multiple sub-arrays\n",
    "#hsplit - splits an arra into multiple sub arrays horizontally(column-wise)\n",
    "#vsplit - splits an arra into multiple sub arrays vertically(row-wise)\n",
    "\n",
    "##### ADDING/REMOVING ELEMENTS: \n",
    "\n",
    "#resize - Returns a new array with the specified shape\n",
    "#append - appends the values to the end of the array\n",
    "#insert - Inserts the values to the end of an array\n",
    "#delete - returns a new array with sub arrays along an axis deleted\n",
    "\n"
   ]
  },
  {
   "cell_type": "code",
   "execution_count": 13,
   "metadata": {},
   "outputs": [],
   "source": [
    "data1 = np.random.randint(5,15,size=(5,3))"
   ]
  },
  {
   "cell_type": "code",
   "execution_count": 14,
   "metadata": {},
   "outputs": [],
   "source": [
    "data2 = np.random.randint(5,15,size=(5,3))"
   ]
  },
  {
   "cell_type": "code",
   "execution_count": 15,
   "metadata": {},
   "outputs": [
    {
     "data": {
      "text/plain": [
       "array([[11, 12,  7, 10,  9,  6],\n",
       "       [11,  9,  9, 11, 13, 14],\n",
       "       [11,  8,  5, 11,  9, 13],\n",
       "       [ 7,  8,  8,  5, 11, 12],\n",
       "       [11, 14, 13,  7,  5,  7]])"
      ]
     },
     "execution_count": 15,
     "metadata": {},
     "output_type": "execute_result"
    }
   ],
   "source": [
    "np.hstack([data1,data2])"
   ]
  },
  {
   "cell_type": "markdown",
   "metadata": {},
   "source": [
    "np.hstack() takes input as two numpy arrays and stacks them together into a single array 'horizontally'"
   ]
  },
  {
   "cell_type": "code",
   "execution_count": 16,
   "metadata": {},
   "outputs": [
    {
     "data": {
      "text/plain": [
       "array([[11, 12,  7],\n",
       "       [11,  9,  9],\n",
       "       [11,  8,  5],\n",
       "       [ 7,  8,  8],\n",
       "       [11, 14, 13],\n",
       "       [10,  9,  6],\n",
       "       [11, 13, 14],\n",
       "       [11,  9, 13],\n",
       "       [ 5, 11, 12],\n",
       "       [ 7,  5,  7]])"
      ]
     },
     "execution_count": 16,
     "metadata": {},
     "output_type": "execute_result"
    }
   ],
   "source": [
    "np.vstack([data1, data2])"
   ]
  },
  {
   "cell_type": "markdown",
   "metadata": {},
   "source": [
    "np.vstack() takes input as two numpy arrays and stacks them together into a single array 'vertically'"
   ]
  },
  {
   "cell_type": "code",
   "execution_count": 17,
   "metadata": {},
   "outputs": [
    {
     "data": {
      "text/plain": [
       "array([[11, 12,  7, 10,  9,  6],\n",
       "       [11,  9,  9, 11, 13, 14],\n",
       "       [11,  8,  5, 11,  9, 13],\n",
       "       [ 7,  8,  8,  5, 11, 12],\n",
       "       [11, 14, 13,  7,  5,  7]])"
      ]
     },
     "execution_count": 17,
     "metadata": {},
     "output_type": "execute_result"
    }
   ],
   "source": [
    "np.concatenate([data1, data2], axis=1)"
   ]
  },
  {
   "cell_type": "markdown",
   "metadata": {},
   "source": [
    "np.concatenate() appends the second input array at the end pf the first one along the specified axis parameter."
   ]
  },
  {
   "cell_type": "code",
   "execution_count": 18,
   "metadata": {},
   "outputs": [],
   "source": [
    "data1 = np.random.randint(5,15,size=(5,3,2))"
   ]
  },
  {
   "cell_type": "code",
   "execution_count": 19,
   "metadata": {},
   "outputs": [],
   "source": [
    "data2 = np.random.randint(5,15,size=(5,3,2))"
   ]
  },
  {
   "cell_type": "code",
   "execution_count": 20,
   "metadata": {},
   "outputs": [
    {
     "data": {
      "text/plain": [
       "array([[[ 9, 11, 10,  9],\n",
       "        [ 6,  5, 12, 12],\n",
       "        [13, 10, 13, 14]],\n",
       "\n",
       "       [[14,  9, 12, 12],\n",
       "        [ 8,  5, 11, 12],\n",
       "        [ 8,  6,  6,  6]],\n",
       "\n",
       "       [[11, 12,  9,  9],\n",
       "        [ 5, 12, 14, 12],\n",
       "        [ 9, 12,  5,  6]],\n",
       "\n",
       "       [[10, 13, 13, 14],\n",
       "        [11, 13,  5,  9],\n",
       "        [ 8,  7, 10,  7]],\n",
       "\n",
       "       [[13, 14,  6,  6],\n",
       "        [ 8,  6,  8,  7],\n",
       "        [11, 12, 12, 10]]])"
      ]
     },
     "execution_count": 20,
     "metadata": {},
     "output_type": "execute_result"
    }
   ],
   "source": [
    "np.concatenate([data1, data2], axis=2)"
   ]
  },
  {
   "cell_type": "markdown",
   "metadata": {},
   "source": [
    "### Splitting Data"
   ]
  },
  {
   "cell_type": "code",
   "execution_count": 21,
   "metadata": {},
   "outputs": [],
   "source": [
    "a1,a2 = np.hsplit(data,[5])"
   ]
  },
  {
   "cell_type": "code",
   "execution_count": 22,
   "metadata": {},
   "outputs": [
    {
     "data": {
      "text/plain": [
       "array([[7, 7, 7, 6, 7],\n",
       "       [9, 5, 5, 9, 5],\n",
       "       [9, 5, 5, 5, 7],\n",
       "       [9, 5, 7, 7, 9],\n",
       "       [7, 5, 6, 5, 7],\n",
       "       [5, 6, 7, 5, 8],\n",
       "       [8, 5, 9, 9, 9],\n",
       "       [7, 8, 7, 6, 8],\n",
       "       [5, 6, 8, 9, 5],\n",
       "       [8, 9, 8, 9, 7]])"
      ]
     },
     "execution_count": 22,
     "metadata": {},
     "output_type": "execute_result"
    }
   ],
   "source": [
    "a1"
   ]
  },
  {
   "cell_type": "code",
   "execution_count": 23,
   "metadata": {},
   "outputs": [],
   "source": [
    "b1,b2,b3 = np.vsplit(data,[5,7])"
   ]
  },
  {
   "cell_type": "code",
   "execution_count": 24,
   "metadata": {},
   "outputs": [
    {
     "data": {
      "text/plain": [
       "array([[7, 7, 7, 6, 7, 9, 6, 6, 5, 6],\n",
       "       [9, 5, 5, 9, 5, 8, 6, 5, 6, 9],\n",
       "       [9, 5, 5, 5, 7, 7, 7, 8, 6, 6],\n",
       "       [9, 5, 7, 7, 9, 7, 7, 9, 6, 6],\n",
       "       [7, 5, 6, 5, 7, 6, 7, 5, 5, 8]])"
      ]
     },
     "execution_count": 24,
     "metadata": {},
     "output_type": "execute_result"
    }
   ],
   "source": [
    "b1"
   ]
  },
  {
   "cell_type": "code",
   "execution_count": 25,
   "metadata": {},
   "outputs": [
    {
     "data": {
      "text/plain": [
       "array([[5, 6, 7, 5, 8, 5, 8, 9, 8, 7],\n",
       "       [8, 5, 9, 9, 9, 6, 5, 8, 8, 6]])"
      ]
     },
     "execution_count": 25,
     "metadata": {},
     "output_type": "execute_result"
    }
   ],
   "source": [
    "b2"
   ]
  },
  {
   "cell_type": "code",
   "execution_count": 26,
   "metadata": {},
   "outputs": [
    {
     "data": {
      "text/plain": [
       "array([[7, 8, 7, 6, 8, 8, 6, 7, 5, 5],\n",
       "       [5, 6, 8, 9, 5, 5, 8, 8, 5, 8],\n",
       "       [8, 9, 8, 9, 7, 6, 5, 7, 9, 5]])"
      ]
     },
     "execution_count": 26,
     "metadata": {},
     "output_type": "execute_result"
    }
   ],
   "source": [
    "b3"
   ]
  },
  {
   "cell_type": "markdown",
   "metadata": {},
   "source": [
    "### Shape, Dimension"
   ]
  },
  {
   "cell_type": "code",
   "execution_count": 27,
   "metadata": {},
   "outputs": [
    {
     "data": {
      "text/plain": [
       "(10, 10)"
      ]
     },
     "execution_count": 27,
     "metadata": {},
     "output_type": "execute_result"
    }
   ],
   "source": [
    "data.shape"
   ]
  },
  {
   "cell_type": "code",
   "execution_count": 28,
   "metadata": {},
   "outputs": [
    {
     "data": {
      "text/plain": [
       "2"
      ]
     },
     "execution_count": 28,
     "metadata": {},
     "output_type": "execute_result"
    }
   ],
   "source": [
    "data.ndim"
   ]
  },
  {
   "cell_type": "code",
   "execution_count": 29,
   "metadata": {},
   "outputs": [
    {
     "data": {
      "text/plain": [
       "100"
      ]
     },
     "execution_count": 29,
     "metadata": {},
     "output_type": "execute_result"
    }
   ],
   "source": [
    "data.size"
   ]
  },
  {
   "cell_type": "code",
   "execution_count": 30,
   "metadata": {},
   "outputs": [
    {
     "data": {
      "text/plain": [
       "array([[7, 7, 7, 6, 7, 9, 6, 6, 5, 6, 9, 5, 5, 9, 5, 8, 6, 5, 6, 9, 9, 5,\n",
       "        5, 5, 7, 7, 7, 8, 6, 6, 9, 5, 7, 7, 9, 7, 7, 9, 6, 6, 7, 5, 6, 5,\n",
       "        7, 6, 7, 5, 5, 8],\n",
       "       [5, 6, 7, 5, 8, 5, 8, 9, 8, 7, 8, 5, 9, 9, 9, 6, 5, 8, 8, 6, 7, 8,\n",
       "        7, 6, 8, 8, 6, 7, 5, 5, 5, 6, 8, 9, 5, 5, 8, 8, 5, 8, 8, 9, 8, 9,\n",
       "        7, 6, 5, 7, 9, 5]])"
      ]
     },
     "execution_count": 30,
     "metadata": {},
     "output_type": "execute_result"
    }
   ],
   "source": [
    "data.reshape(2,50)"
   ]
  },
  {
   "cell_type": "code",
   "execution_count": 31,
   "metadata": {},
   "outputs": [],
   "source": [
    "d = np.array([1,2,3,4,5,6,7,9])"
   ]
  },
  {
   "cell_type": "code",
   "execution_count": 32,
   "metadata": {},
   "outputs": [
    {
     "data": {
      "text/plain": [
       "1"
      ]
     },
     "execution_count": 32,
     "metadata": {},
     "output_type": "execute_result"
    }
   ],
   "source": [
    "d.ndim"
   ]
  },
  {
   "cell_type": "code",
   "execution_count": 33,
   "metadata": {},
   "outputs": [
    {
     "data": {
      "text/plain": [
       "(8,)"
      ]
     },
     "execution_count": 33,
     "metadata": {},
     "output_type": "execute_result"
    }
   ],
   "source": [
    "d.shape"
   ]
  },
  {
   "cell_type": "code",
   "execution_count": 34,
   "metadata": {},
   "outputs": [
    {
     "data": {
      "text/plain": [
       "8"
      ]
     },
     "execution_count": 34,
     "metadata": {},
     "output_type": "execute_result"
    }
   ],
   "source": [
    "d.size"
   ]
  },
  {
   "cell_type": "code",
   "execution_count": 35,
   "metadata": {},
   "outputs": [
    {
     "data": {
      "text/plain": [
       "array([[1],\n",
       "       [2],\n",
       "       [3],\n",
       "       [4],\n",
       "       [5],\n",
       "       [6],\n",
       "       [7],\n",
       "       [9]])"
      ]
     },
     "execution_count": 35,
     "metadata": {},
     "output_type": "execute_result"
    }
   ],
   "source": [
    "d.reshape(8,1)"
   ]
  },
  {
   "cell_type": "code",
   "execution_count": 36,
   "metadata": {},
   "outputs": [
    {
     "data": {
      "text/plain": [
       "array([[7, 7, 7, 6, 7, 9, 6, 6, 5, 6, 9, 5, 5, 9, 5, 8, 6, 5, 6, 9],\n",
       "       [9, 5, 5, 5, 7, 7, 7, 8, 6, 6, 9, 5, 7, 7, 9, 7, 7, 9, 6, 6],\n",
       "       [7, 5, 6, 5, 7, 6, 7, 5, 5, 8, 5, 6, 7, 5, 8, 5, 8, 9, 8, 7],\n",
       "       [8, 5, 9, 9, 9, 6, 5, 8, 8, 6, 7, 8, 7, 6, 8, 8, 6, 7, 5, 5],\n",
       "       [5, 6, 8, 9, 5, 5, 8, 8, 5, 8, 8, 9, 8, 9, 7, 6, 5, 7, 9, 5]])"
      ]
     },
     "execution_count": 36,
     "metadata": {},
     "output_type": "execute_result"
    }
   ],
   "source": [
    "data.reshape(-1,20)"
   ]
  },
  {
   "cell_type": "markdown",
   "metadata": {},
   "source": [
    "### Utility Function"
   ]
  },
  {
   "cell_type": "code",
   "execution_count": 37,
   "metadata": {},
   "outputs": [
    {
     "data": {
      "text/plain": [
       "679"
      ]
     },
     "execution_count": 37,
     "metadata": {},
     "output_type": "execute_result"
    }
   ],
   "source": [
    "np.sum(data)"
   ]
  },
  {
   "cell_type": "code",
   "execution_count": 38,
   "metadata": {},
   "outputs": [
    {
     "data": {
      "text/plain": [
       "array([66, 67, 65, 72, 61, 68, 73, 67, 67, 73])"
      ]
     },
     "execution_count": 38,
     "metadata": {},
     "output_type": "execute_result"
    }
   ],
   "source": [
    "np.sum(data, axis=1)"
   ]
  },
  {
   "cell_type": "code",
   "execution_count": 39,
   "metadata": {},
   "outputs": [
    {
     "data": {
      "text/plain": [
       "array([[7, 7, 7, 6, 7, 9, 6, 6, 5, 6],\n",
       "       [9, 5, 5, 9, 5, 8, 6, 5, 6, 9],\n",
       "       [9, 5, 5, 5, 7, 7, 7, 8, 6, 6],\n",
       "       [9, 5, 7, 7, 9, 7, 7, 9, 6, 6],\n",
       "       [7, 5, 6, 5, 7, 6, 7, 5, 5, 8],\n",
       "       [5, 6, 7, 5, 8, 5, 8, 9, 8, 7],\n",
       "       [8, 5, 9, 9, 9, 6, 5, 8, 8, 6],\n",
       "       [7, 8, 7, 6, 8, 8, 6, 7, 5, 5],\n",
       "       [5, 6, 8, 9, 5, 5, 8, 8, 5, 8],\n",
       "       [8, 9, 8, 9, 7, 6, 5, 7, 9, 5]])"
      ]
     },
     "execution_count": 39,
     "metadata": {},
     "output_type": "execute_result"
    }
   ],
   "source": [
    "data"
   ]
  },
  {
   "cell_type": "code",
   "execution_count": 40,
   "metadata": {},
   "outputs": [
    {
     "data": {
      "text/plain": [
       "array([[ 0.6569866 ,  0.6569866 ,  0.6569866 , -0.2794155 ,  0.6569866 ,\n",
       "         0.41211849, -0.2794155 , -0.2794155 , -0.95892427, -0.2794155 ],\n",
       "       [ 0.41211849, -0.95892427, -0.95892427,  0.41211849, -0.95892427,\n",
       "         0.98935825, -0.2794155 , -0.95892427, -0.2794155 ,  0.41211849],\n",
       "       [ 0.41211849, -0.95892427, -0.95892427, -0.95892427,  0.6569866 ,\n",
       "         0.6569866 ,  0.6569866 ,  0.98935825, -0.2794155 , -0.2794155 ],\n",
       "       [ 0.41211849, -0.95892427,  0.6569866 ,  0.6569866 ,  0.41211849,\n",
       "         0.6569866 ,  0.6569866 ,  0.41211849, -0.2794155 , -0.2794155 ],\n",
       "       [ 0.6569866 , -0.95892427, -0.2794155 , -0.95892427,  0.6569866 ,\n",
       "        -0.2794155 ,  0.6569866 , -0.95892427, -0.95892427,  0.98935825],\n",
       "       [-0.95892427, -0.2794155 ,  0.6569866 , -0.95892427,  0.98935825,\n",
       "        -0.95892427,  0.98935825,  0.41211849,  0.98935825,  0.6569866 ],\n",
       "       [ 0.98935825, -0.95892427,  0.41211849,  0.41211849,  0.41211849,\n",
       "        -0.2794155 , -0.95892427,  0.98935825,  0.98935825, -0.2794155 ],\n",
       "       [ 0.6569866 ,  0.98935825,  0.6569866 , -0.2794155 ,  0.98935825,\n",
       "         0.98935825, -0.2794155 ,  0.6569866 , -0.95892427, -0.95892427],\n",
       "       [-0.95892427, -0.2794155 ,  0.98935825,  0.41211849, -0.95892427,\n",
       "        -0.95892427,  0.98935825,  0.98935825, -0.95892427,  0.98935825],\n",
       "       [ 0.98935825,  0.41211849,  0.98935825,  0.41211849,  0.6569866 ,\n",
       "        -0.2794155 , -0.95892427,  0.6569866 ,  0.41211849, -0.95892427]])"
      ]
     },
     "execution_count": 40,
     "metadata": {},
     "output_type": "execute_result"
    }
   ],
   "source": [
    "np.sin(data)"
   ]
  },
  {
   "cell_type": "code",
   "execution_count": 41,
   "metadata": {},
   "outputs": [
    {
     "data": {
      "text/plain": [
       "array([[7, 9, 9, 9, 7, 5, 8, 7, 5, 8],\n",
       "       [7, 5, 5, 5, 5, 6, 5, 8, 6, 9],\n",
       "       [7, 5, 5, 7, 6, 7, 9, 7, 8, 8],\n",
       "       [6, 9, 5, 7, 5, 5, 9, 6, 9, 9],\n",
       "       [7, 5, 7, 9, 7, 8, 9, 8, 5, 7],\n",
       "       [9, 8, 7, 7, 6, 5, 6, 8, 5, 6],\n",
       "       [6, 6, 7, 7, 7, 8, 5, 6, 8, 5],\n",
       "       [6, 5, 8, 9, 5, 9, 8, 7, 8, 7],\n",
       "       [5, 6, 6, 6, 5, 8, 8, 5, 5, 9],\n",
       "       [6, 9, 6, 6, 8, 7, 6, 5, 8, 5]])"
      ]
     },
     "execution_count": 41,
     "metadata": {},
     "output_type": "execute_result"
    }
   ],
   "source": [
    "data.T"
   ]
  },
  {
   "cell_type": "code",
   "execution_count": 42,
   "metadata": {},
   "outputs": [
    {
     "data": {
      "text/plain": [
       "array([6.6, 6.7, 6.5, 7.2, 6.1, 6.8, 7.3, 6.7, 6.7, 7.3])"
      ]
     },
     "execution_count": 42,
     "metadata": {},
     "output_type": "execute_result"
    }
   ],
   "source": [
    "data.mean(axis=1)"
   ]
  },
  {
   "cell_type": "code",
   "execution_count": 43,
   "metadata": {},
   "outputs": [
    {
     "data": {
      "text/plain": [
       "array([1.0198039 , 1.73493516, 1.28452326, 1.32664992, 1.04403065,\n",
       "       1.4       , 1.55241747, 1.1       , 1.55241747, 1.48660687])"
      ]
     },
     "execution_count": 43,
     "metadata": {},
     "output_type": "execute_result"
    }
   ],
   "source": [
    "data.std(axis=1)"
   ]
  },
  {
   "cell_type": "markdown",
   "metadata": {},
   "source": [
    "#### A List of String functions\n",
    "\n",
    "#add() - Returns element wise string concatenation for two arrays of str or unicode\n",
    "#multiply() - returns the string with multiple concatenation, element wise\n",
    "#center() -  returns the copy of the given string with elements centred ina a string of specified length\n",
    "#capitalize() - returns a copy of the string with only the first character capitalized\n",
    "#title() - returns the element wise title cased version of the string or unicode\n",
    "#lower() - returns an array with elements converted to lowercase\n",
    "#upper() - returns an array with the elements converted to uppercase\n",
    "#split() - returns a list of words in the string, uing separator delimiter\n",
    "#splitlines() - returns a list of lines in the element, breaking at the line boundaries\n",
    "#strip() - returns a copy with the leading and trailing characters removed\n",
    "#join() - returns a copy of the string with all occurences of substring replaced by new string"
   ]
  },
  {
   "cell_type": "markdown",
   "metadata": {},
   "source": [
    "### Broadcasting"
   ]
  },
  {
   "cell_type": "code",
   "execution_count": 44,
   "metadata": {},
   "outputs": [],
   "source": [
    "v = np.array([1,2,3,4,5])"
   ]
  },
  {
   "cell_type": "code",
   "execution_count": 45,
   "metadata": {},
   "outputs": [],
   "source": [
    "s = 10"
   ]
  },
  {
   "cell_type": "code",
   "execution_count": 46,
   "metadata": {},
   "outputs": [
    {
     "data": {
      "text/plain": [
       "array([11, 12, 13, 14, 15])"
      ]
     },
     "execution_count": 46,
     "metadata": {},
     "output_type": "execute_result"
    }
   ],
   "source": [
    "v + s"
   ]
  },
  {
   "cell_type": "code",
   "execution_count": 47,
   "metadata": {},
   "outputs": [],
   "source": [
    "t = [10,11]"
   ]
  },
  {
   "cell_type": "code",
   "execution_count": 48,
   "metadata": {},
   "outputs": [],
   "source": [
    "#v + t"
   ]
  },
  {
   "cell_type": "code",
   "execution_count": 49,
   "metadata": {},
   "outputs": [],
   "source": [
    "a = np.array([[1],[2],[3],[4],[5]])"
   ]
  },
  {
   "cell_type": "code",
   "execution_count": 50,
   "metadata": {},
   "outputs": [
    {
     "data": {
      "text/plain": [
       "(5, 1)"
      ]
     },
     "execution_count": 50,
     "metadata": {},
     "output_type": "execute_result"
    }
   ],
   "source": [
    "a.shape"
   ]
  },
  {
   "cell_type": "code",
   "execution_count": 51,
   "metadata": {},
   "outputs": [
    {
     "data": {
      "text/plain": [
       "array([[ 2,  3,  4,  5,  6],\n",
       "       [ 3,  4,  5,  6,  7],\n",
       "       [ 4,  5,  6,  7,  8],\n",
       "       [ 5,  6,  7,  8,  9],\n",
       "       [ 6,  7,  8,  9, 10]])"
      ]
     },
     "execution_count": 51,
     "metadata": {},
     "output_type": "execute_result"
    }
   ],
   "source": [
    "a + v"
   ]
  },
  {
   "cell_type": "code",
   "execution_count": 52,
   "metadata": {},
   "outputs": [],
   "source": [
    "a = np.random.randint(1,5,size=(10,2))"
   ]
  },
  {
   "cell_type": "code",
   "execution_count": 53,
   "metadata": {},
   "outputs": [],
   "source": [
    "b = np.random.randint(1,5,size=(5,2))"
   ]
  },
  {
   "cell_type": "code",
   "execution_count": 54,
   "metadata": {},
   "outputs": [
    {
     "data": {
      "text/plain": [
       "array([[[3, 4],\n",
       "        [4, 2],\n",
       "        [1, 2],\n",
       "        [1, 1],\n",
       "        [4, 1],\n",
       "        [4, 4],\n",
       "        [2, 2],\n",
       "        [3, 2],\n",
       "        [2, 4],\n",
       "        [1, 3]]])"
      ]
     },
     "execution_count": 54,
     "metadata": {},
     "output_type": "execute_result"
    }
   ],
   "source": [
    "a.reshape(1,10,2)"
   ]
  },
  {
   "cell_type": "code",
   "execution_count": 55,
   "metadata": {},
   "outputs": [
    {
     "data": {
      "text/plain": [
       "array([[[-2, -2],\n",
       "        [-3,  0],\n",
       "        [ 0,  0],\n",
       "        [ 0,  1],\n",
       "        [-3,  1],\n",
       "        [-3, -2],\n",
       "        [-1,  0],\n",
       "        [-2,  0],\n",
       "        [-1, -2],\n",
       "        [ 0, -1]],\n",
       "\n",
       "       [[-1, -3],\n",
       "        [-2, -1],\n",
       "        [ 1, -1],\n",
       "        [ 1,  0],\n",
       "        [-2,  0],\n",
       "        [-2, -3],\n",
       "        [ 0, -1],\n",
       "        [-1, -1],\n",
       "        [ 0, -3],\n",
       "        [ 1, -2]],\n",
       "\n",
       "       [[ 0,  0],\n",
       "        [-1,  2],\n",
       "        [ 2,  2],\n",
       "        [ 2,  3],\n",
       "        [-1,  3],\n",
       "        [-1,  0],\n",
       "        [ 1,  2],\n",
       "        [ 0,  2],\n",
       "        [ 1,  0],\n",
       "        [ 2,  1]],\n",
       "\n",
       "       [[-1, -2],\n",
       "        [-2,  0],\n",
       "        [ 1,  0],\n",
       "        [ 1,  1],\n",
       "        [-2,  1],\n",
       "        [-2, -2],\n",
       "        [ 0,  0],\n",
       "        [-1,  0],\n",
       "        [ 0, -2],\n",
       "        [ 1, -1]],\n",
       "\n",
       "       [[-1, -3],\n",
       "        [-2, -1],\n",
       "        [ 1, -1],\n",
       "        [ 1,  0],\n",
       "        [-2,  0],\n",
       "        [-2, -3],\n",
       "        [ 0, -1],\n",
       "        [-1, -1],\n",
       "        [ 0, -3],\n",
       "        [ 1, -2]]])"
      ]
     },
     "execution_count": 55,
     "metadata": {},
     "output_type": "execute_result"
    }
   ],
   "source": [
    "b.reshape(5,1,2) - a.reshape(1,10,2)"
   ]
  },
  {
   "cell_type": "code",
   "execution_count": 56,
   "metadata": {},
   "outputs": [],
   "source": [
    "a = np.random.randint(1,5,size=(10,2))\n",
    "b = np.random.randint(1,5,size=(5,3))"
   ]
  },
  {
   "cell_type": "code",
   "execution_count": 57,
   "metadata": {},
   "outputs": [
    {
     "data": {
      "text/plain": [
       "(10, 2)"
      ]
     },
     "execution_count": 57,
     "metadata": {},
     "output_type": "execute_result"
    }
   ],
   "source": [
    "a.shape"
   ]
  },
  {
   "cell_type": "code",
   "execution_count": 58,
   "metadata": {},
   "outputs": [
    {
     "data": {
      "text/plain": [
       "(5, 3)"
      ]
     },
     "execution_count": 58,
     "metadata": {},
     "output_type": "execute_result"
    }
   ],
   "source": [
    "b.shape"
   ]
  },
  {
   "cell_type": "code",
   "execution_count": 59,
   "metadata": {},
   "outputs": [
    {
     "data": {
      "text/plain": [
       "array([[[[ 2,  1],\n",
       "         [ 0, -1],\n",
       "         [-1, -2]],\n",
       "\n",
       "        [[ 3,  3],\n",
       "         [ 1,  1],\n",
       "         [ 0,  0]],\n",
       "\n",
       "        [[ 0,  3],\n",
       "         [-2,  1],\n",
       "         [-3,  0]],\n",
       "\n",
       "        [[ 2,  0],\n",
       "         [ 0, -2],\n",
       "         [-1, -3]],\n",
       "\n",
       "        [[ 3,  3],\n",
       "         [ 1,  1],\n",
       "         [ 0,  0]],\n",
       "\n",
       "        [[ 2,  0],\n",
       "         [ 0, -2],\n",
       "         [-1, -3]],\n",
       "\n",
       "        [[ 3,  3],\n",
       "         [ 1,  1],\n",
       "         [ 0,  0]],\n",
       "\n",
       "        [[ 2,  1],\n",
       "         [ 0, -1],\n",
       "         [-1, -2]],\n",
       "\n",
       "        [[ 1,  1],\n",
       "         [-1, -1],\n",
       "         [-2, -2]],\n",
       "\n",
       "        [[ 3,  3],\n",
       "         [ 1,  1],\n",
       "         [ 0,  0]]],\n",
       "\n",
       "\n",
       "       [[[ 0, -1],\n",
       "         [ 2,  1],\n",
       "         [ 2,  1]],\n",
       "\n",
       "        [[ 1,  1],\n",
       "         [ 3,  3],\n",
       "         [ 3,  3]],\n",
       "\n",
       "        [[-2,  1],\n",
       "         [ 0,  3],\n",
       "         [ 0,  3]],\n",
       "\n",
       "        [[ 0, -2],\n",
       "         [ 2,  0],\n",
       "         [ 2,  0]],\n",
       "\n",
       "        [[ 1,  1],\n",
       "         [ 3,  3],\n",
       "         [ 3,  3]],\n",
       "\n",
       "        [[ 0, -2],\n",
       "         [ 2,  0],\n",
       "         [ 2,  0]],\n",
       "\n",
       "        [[ 1,  1],\n",
       "         [ 3,  3],\n",
       "         [ 3,  3]],\n",
       "\n",
       "        [[ 0, -1],\n",
       "         [ 2,  1],\n",
       "         [ 2,  1]],\n",
       "\n",
       "        [[-1, -1],\n",
       "         [ 1,  1],\n",
       "         [ 1,  1]],\n",
       "\n",
       "        [[ 1,  1],\n",
       "         [ 3,  3],\n",
       "         [ 3,  3]]],\n",
       "\n",
       "\n",
       "       [[[ 2,  1],\n",
       "         [ 0, -1],\n",
       "         [ 0, -1]],\n",
       "\n",
       "        [[ 3,  3],\n",
       "         [ 1,  1],\n",
       "         [ 1,  1]],\n",
       "\n",
       "        [[ 0,  3],\n",
       "         [-2,  1],\n",
       "         [-2,  1]],\n",
       "\n",
       "        [[ 2,  0],\n",
       "         [ 0, -2],\n",
       "         [ 0, -2]],\n",
       "\n",
       "        [[ 3,  3],\n",
       "         [ 1,  1],\n",
       "         [ 1,  1]],\n",
       "\n",
       "        [[ 2,  0],\n",
       "         [ 0, -2],\n",
       "         [ 0, -2]],\n",
       "\n",
       "        [[ 3,  3],\n",
       "         [ 1,  1],\n",
       "         [ 1,  1]],\n",
       "\n",
       "        [[ 2,  1],\n",
       "         [ 0, -1],\n",
       "         [ 0, -1]],\n",
       "\n",
       "        [[ 1,  1],\n",
       "         [-1, -1],\n",
       "         [-1, -1]],\n",
       "\n",
       "        [[ 3,  3],\n",
       "         [ 1,  1],\n",
       "         [ 1,  1]]],\n",
       "\n",
       "\n",
       "       [[[ 0, -1],\n",
       "         [-1, -2],\n",
       "         [ 0, -1]],\n",
       "\n",
       "        [[ 1,  1],\n",
       "         [ 0,  0],\n",
       "         [ 1,  1]],\n",
       "\n",
       "        [[-2,  1],\n",
       "         [-3,  0],\n",
       "         [-2,  1]],\n",
       "\n",
       "        [[ 0, -2],\n",
       "         [-1, -3],\n",
       "         [ 0, -2]],\n",
       "\n",
       "        [[ 1,  1],\n",
       "         [ 0,  0],\n",
       "         [ 1,  1]],\n",
       "\n",
       "        [[ 0, -2],\n",
       "         [-1, -3],\n",
       "         [ 0, -2]],\n",
       "\n",
       "        [[ 1,  1],\n",
       "         [ 0,  0],\n",
       "         [ 1,  1]],\n",
       "\n",
       "        [[ 0, -1],\n",
       "         [-1, -2],\n",
       "         [ 0, -1]],\n",
       "\n",
       "        [[-1, -1],\n",
       "         [-2, -2],\n",
       "         [-1, -1]],\n",
       "\n",
       "        [[ 1,  1],\n",
       "         [ 0,  0],\n",
       "         [ 1,  1]]],\n",
       "\n",
       "\n",
       "       [[[ 0, -1],\n",
       "         [ 0, -1],\n",
       "         [ 0, -1]],\n",
       "\n",
       "        [[ 1,  1],\n",
       "         [ 1,  1],\n",
       "         [ 1,  1]],\n",
       "\n",
       "        [[-2,  1],\n",
       "         [-2,  1],\n",
       "         [-2,  1]],\n",
       "\n",
       "        [[ 0, -2],\n",
       "         [ 0, -2],\n",
       "         [ 0, -2]],\n",
       "\n",
       "        [[ 1,  1],\n",
       "         [ 1,  1],\n",
       "         [ 1,  1]],\n",
       "\n",
       "        [[ 0, -2],\n",
       "         [ 0, -2],\n",
       "         [ 0, -2]],\n",
       "\n",
       "        [[ 1,  1],\n",
       "         [ 1,  1],\n",
       "         [ 1,  1]],\n",
       "\n",
       "        [[ 0, -1],\n",
       "         [ 0, -1],\n",
       "         [ 0, -1]],\n",
       "\n",
       "        [[-1, -1],\n",
       "         [-1, -1],\n",
       "         [-1, -1]],\n",
       "\n",
       "        [[ 1,  1],\n",
       "         [ 1,  1],\n",
       "         [ 1,  1]]]])"
      ]
     },
     "execution_count": 59,
     "metadata": {},
     "output_type": "execute_result"
    }
   ],
   "source": [
    "a.reshape(1,10,1,2) - b.reshape(5,1,3,1)"
   ]
  },
  {
   "cell_type": "markdown",
   "metadata": {},
   "source": [
    "#### STATISTICAL FUNCTIONS\n",
    "\n",
    "\n",
    "#### numpy.amin() and numpy.amax() \n",
    "\n",
    "These functions return the minimum and the maximum from the elements in the given array along the specified axis"
   ]
  },
  {
   "cell_type": "code",
   "execution_count": 60,
   "metadata": {},
   "outputs": [],
   "source": [
    "a = np.array([[3,7,5],[8,4,3],[2,4,9]])"
   ]
  },
  {
   "cell_type": "code",
   "execution_count": 61,
   "metadata": {},
   "outputs": [
    {
     "name": "stdout",
     "output_type": "stream",
     "text": [
      "[3 3 2]\n"
     ]
    }
   ],
   "source": [
    "print(np.amin(a,1))"
   ]
  },
  {
   "cell_type": "code",
   "execution_count": 62,
   "metadata": {},
   "outputs": [
    {
     "name": "stdout",
     "output_type": "stream",
     "text": [
      "[2 4 3]\n"
     ]
    }
   ],
   "source": [
    "print(np.amin(a,0))"
   ]
  },
  {
   "cell_type": "code",
   "execution_count": 63,
   "metadata": {},
   "outputs": [
    {
     "name": "stdout",
     "output_type": "stream",
     "text": [
      "[7 8 9]\n"
     ]
    }
   ],
   "source": [
    "print(np.amax(a,1))"
   ]
  },
  {
   "cell_type": "code",
   "execution_count": 64,
   "metadata": {},
   "outputs": [
    {
     "name": "stdout",
     "output_type": "stream",
     "text": [
      "[8 7 9]\n"
     ]
    }
   ],
   "source": [
    "print(np.amax(a,0))"
   ]
  },
  {
   "cell_type": "markdown",
   "metadata": {},
   "source": [
    "#### numpy.ptp()\n",
    "\n",
    "This function returns the range (maximum-minimum) of the values along an axis.\n"
   ]
  },
  {
   "cell_type": "code",
   "execution_count": 65,
   "metadata": {},
   "outputs": [
    {
     "name": "stdout",
     "output_type": "stream",
     "text": [
      "7\n"
     ]
    }
   ],
   "source": [
    "print(np.ptp(a))         #with no argument, it takes the entire array for comparison"
   ]
  },
  {
   "cell_type": "code",
   "execution_count": 66,
   "metadata": {},
   "outputs": [
    {
     "name": "stdout",
     "output_type": "stream",
     "text": [
      "[4 5 7]\n"
     ]
    }
   ],
   "source": [
    "print(np.ptp(a,axis = 1))"
   ]
  },
  {
   "cell_type": "code",
   "execution_count": 67,
   "metadata": {},
   "outputs": [
    {
     "name": "stdout",
     "output_type": "stream",
     "text": [
      "[6 3 6]\n"
     ]
    }
   ],
   "source": [
    "print(np.ptp(a,axis = 0))"
   ]
  },
  {
   "cell_type": "markdown",
   "metadata": {},
   "source": [
    "#### numpy.percentile() \n",
    "\n",
    "Percentile (or a centile) is a measure used in statistics indicating the value below which a given percentage of observations in a group of observations fall. The function numpy.percentile() takes the following arguments.\n",
    "\n",
    "\n",
    "#### numpy.percentile(a, q, axis)\n",
    "\n",
    "\n",
    "#a - input array\n",
    "#q - the percentile to compute (must be between 0 and 100)\n",
    "#axis - the axis along which percentile is to be caculated"
   ]
  },
  {
   "cell_type": "code",
   "execution_count": 68,
   "metadata": {},
   "outputs": [
    {
     "name": "stdout",
     "output_type": "stream",
     "text": [
      "[[3 7 5]\n",
      " [8 4 3]\n",
      " [2 4 9]]\n"
     ]
    }
   ],
   "source": [
    "print(a)"
   ]
  },
  {
   "cell_type": "code",
   "execution_count": 69,
   "metadata": {},
   "outputs": [
    {
     "name": "stdout",
     "output_type": "stream",
     "text": [
      "4.0\n"
     ]
    }
   ],
   "source": [
    "print(np.percentile(a,50)) "
   ]
  },
  {
   "cell_type": "code",
   "execution_count": 70,
   "metadata": {},
   "outputs": [
    {
     "name": "stdout",
     "output_type": "stream",
     "text": [
      "[5. 4. 4.]\n"
     ]
    }
   ],
   "source": [
    "print(np.percentile(a,50, axis = 1)) "
   ]
  },
  {
   "cell_type": "code",
   "execution_count": 71,
   "metadata": {},
   "outputs": [
    {
     "name": "stdout",
     "output_type": "stream",
     "text": [
      "[3. 4. 5.]\n"
     ]
    }
   ],
   "source": [
    "print(np.percentile(a,50, axis = 0))"
   ]
  },
  {
   "cell_type": "code",
   "execution_count": null,
   "metadata": {},
   "outputs": [],
   "source": []
  },
  {
   "cell_type": "code",
   "execution_count": null,
   "metadata": {},
   "outputs": [],
   "source": []
  },
  {
   "cell_type": "code",
   "execution_count": null,
   "metadata": {},
   "outputs": [],
   "source": []
  }
 ],
 "metadata": {
  "kernelspec": {
   "display_name": "Python 3",
   "language": "python",
   "name": "python3"
  },
  "language_info": {
   "codemirror_mode": {
    "name": "ipython",
    "version": 3
   },
   "file_extension": ".py",
   "mimetype": "text/x-python",
   "name": "python",
   "nbconvert_exporter": "python",
   "pygments_lexer": "ipython3",
   "version": "3.7.3"
  }
 },
 "nbformat": 4,
 "nbformat_minor": 2
}
