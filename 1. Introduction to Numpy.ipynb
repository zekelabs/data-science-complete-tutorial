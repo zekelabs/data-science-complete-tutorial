{
 "cells": [
  {
   "cell_type": "markdown",
   "metadata": {},
   "outputs": [],
   "source": [
    "# 1. Introduction to Numpy\n",
    "Numpy is a Library in python that specializes in dealing with multidimensional Arrays. The cool features of Numpy are\n",
    "* **Automatic Checking :** Numpy ndArrays automatically check the consistancy of data. For instance, it is not possible to have 1st row with 2 elements and 2nd row with 3 elements\n",
    "* **Contiguous Storage :** Unlike Python Lists, Numpy stores the data in contiguous Memory Locations, leading to lesser Space\n",
    "* **Faster Vector Arithmatics :** Because of contiguous storage, the operations are performed faster as compared to default Python Execution for Lists"
   ]
  },
  {
   "cell_type": "code",
   "execution_count": 23,
   "metadata": {},
   "outputs": [],
   "source": [
    "# Importing Numpy\n",
    "import numpy as np"
   ]
  },
  {
   "cell_type": "markdown",
   "metadata": {},
   "outputs": [],
   "source": [
    "## 1.1 Initialization of 1D array in Python\n",
    "A numpy array comes with 2 important state variables. Just like Python, it automatically detects dtype (if not mentioned)\n",
    "* dtype\n",
    "* shape\n",
    "\n",
    "#### 1.1.1 Initialization from python List\n",
    "numpy.array( list **)**"
   ]
  },
  {
   "cell_type": "code",
   "execution_count": 24,
   "metadata": {},
   "outputs": [
    {
     "name": "stdout",
     "output_type": "stream",
     "text": "1D array in numpy is [1 4 9 3 2]\n\ndtype of the numpy array is int64\n\nshape of the numpy array is 5\n\n"
    }
   ],
   "source": [
    "# Initializing from Python List\n",
    "v = np.array([1,4,9,3,2])\n",
    "print ('1D array in numpy is %s\\n'%v)\n",
    "print ('dtype of the numpy array is %s\\n'%str(v.dtype))\n",
    "print ('shape of the numpy array is %s\\n'%v.shape)"
   ]
  },
  {
   "cell_type": "markdown",
   "metadata": {},
   "outputs": [],
   "source": [
    "#### 1.1.2 Initialization via arange\n",
    "numpy.arange(**[**start, stop, step**]** dtype=None)"
   ]
  },
  {
   "cell_type": "code",
   "execution_count": 25,
   "metadata": {},
   "outputs": [
    {
     "name": "stdout",
     "output_type": "stream",
     "text": "Creating a numpy array via arange (stop=5) : [0 1 2 3 4]\n\nCreating a numpy array via arange (start=2,stop=5) : [2 3 4]\n\nCreating a numpy array via arange (start=0,stop=-10,step=-2) : [ 0 -2 -4 -6 -8]\n\n"
    }
   ],
   "source": [
    "v1 = np.arange(5)\n",
    "print ('Creating a numpy array via arange (stop=5) : %s\\n'%v1)\n",
    "v2 = np.arange(2,5)\n",
    "print ('Creating a numpy array via arange (start=2,stop=5) : %s\\n'%v2)\n",
    "v3 = np.arange(0,-10,-2)\n",
    "print ('Creating a numpy array via arange (start=0,stop=-10,step=-2) : %s\\n'%v3)\n",
    "\n"
   ]
  },
  {
   "cell_type": "markdown",
   "metadata": {},
   "outputs": [],
   "source": [
    "## 1.2. Initialization of 2D array in Python\n",
    "When we talk about 2D array, it is important to note that Numpy stores Matrix is ***Row Major Format***. Row major format means that the the complete row will be stored first and then the next row will be stored and so on. You can choose to store a matrix in colum major format by mentioning ***order='F'*** on ndarray creation, which means ***Column Major Format***  or *Fortran Style Format*. \n",
    "\n",
    "![Interpretation of row and column in Numpy](img/1.2.1-numpy-matrix-01.jpg)"
   ]
  },
  {
   "cell_type": "markdown",
   "metadata": {},
   "outputs": [],
   "source": [
    "#### 1.2.1 Initialization from List of List\n",
    "numpy.array **(** ***object***, dtype=None **)**\n",
    "\n",
    "Here the matrix that we have taken is \n",
    "$$mat = \\begin{bmatrix}1 & 2 & 3 \\\\ 4 & 5 & 6 \\end{bmatrix}$$"
   ]
  },
  {
   "cell_type": "code",
   "execution_count": 26,
   "metadata": {},
   "outputs": [
    {
     "name": "stdout",
     "output_type": "stream",
     "text": "numpy matrix is \n[[1 2 3]\n [4 5 6]]\n\nFlattened version of numpy matrix is [1 2 3 4 5 6]\n\n"
    }
   ],
   "source": [
    "pymat = [[1,2,3],[4,5,6]]\n",
    "npmat = np.array(pymat)\n",
    "print ('numpy matrix is \\n%s\\n'%npmat)\n",
    "print ('Flattened version of numpy matrix is %s\\n'%npmat.flatten())\n",
    "# By flatten the matrix becomes row major 1D vector (This is the way in which a matrix is stored in memory). \n"
   ]
  },
  {
   "cell_type": "markdown",
   "metadata": {},
   "outputs": [],
   "source": [
    "#### 1.2.2 Initialization with zero/ones\n",
    "numpy.**zeros**(*shape*, dtype=float)  \n",
    "numpy.**ones**(*shape*, dtype=float)"
   ]
  },
  {
   "cell_type": "code",
   "execution_count": 27,
   "metadata": {},
   "outputs": [
    {
     "name": "stdout",
     "output_type": "stream",
     "text": "Zeros Matris of shape (3, 5) is \n[[0. 0. 0. 0. 0.]\n [0. 0. 0. 0. 0.]\n [0. 0. 0. 0. 0.]]\n\nOnes Matris of shape (2, 3) is \n[[1. 1. 1.]\n [1. 1. 1.]]\n\n"
    }
   ],
   "source": [
    "mat_zeros = np.zeros(shape=(3,5))\n",
    "print ('Zeros Matris of shape %s is \\n%s\\n'%(mat_zeros.shape,mat_zeros))\n",
    "mat_ones = np.ones(shape=(2,3))\n",
    "print ('Ones Matris of shape %s is \\n%s\\n'%(mat_ones.shape,mat_ones))\n"
   ]
  },
  {
   "cell_type": "markdown",
   "metadata": {},
   "outputs": [],
   "source": [
    "#### 1.2.3 Initialization with Random Values\n",
    "**1.2.3.1** numpy.**random.random**(*size=None*,)  \n",
    "**1.2.3.2** numpy.**random.randint**(low, high, *size=None*, dtype='I') : The value of matrix lies between low and high-1  \n",
    "**1.2.3.3** numpy.**random.randn**($d_0,d_1,\\cdots,d_n$)\n"
   ]
  },
  {
   "cell_type": "code",
   "execution_count": 28,
   "metadata": {},
   "outputs": [
    {
     "name": "stdout",
     "output_type": "stream",
     "text": "matrix generated from numpy.random.random is \n[[0.88543299 0.67887968 0.13098948 0.80490301]\n [0.38677641 0.73885941 0.68558157 0.89456218]\n [0.92253817 0.90720942 0.72966413 0.70287455]]\n\nmatrix generated from numpy.random.random is \n[[0 1 1 0]\n [0 1 0 1]\n [0 1 1 0]]\n\nmatrix generated from numpy.random.randn is \n[[-1.5733044   0.48966842 -0.74037554  0.62584237]\n [ 0.65956069 -0.31941405 -1.05914627 -0.21062263]\n [-2.46230796  0.32617736  0.60196332  1.36276872]]\n\n"
    }
   ],
   "source": [
    "#Using numpy.random.random\n",
    "mat1 = np.random.random(size=(3,4))\n",
    "print ('matrix generated from numpy.random.random is \\n%s\\n'%mat1)\n",
    "mat2 = np.random.randint(low=0,high=2,size=(3,4))\n",
    "print ('matrix generated from numpy.random.random is \\n%s\\n'%mat2)\n",
    "mat3 = np.random.randn(3,4)\n",
    "print ('matrix generated from numpy.random.randn is \\n%s\\n'%mat3)\n"
   ]
  },
  {
   "cell_type": "markdown",
   "metadata": {},
   "outputs": [],
   "source": [
    "## 1.3. Slicing and Indexing in Numpy\n",
    "Just like python, numpy also has 0 indexing. Let us see some of the commonly used slicing techniques.  \n",
    "* Generic Slicing Operation : \\[start\\]:\\[end\\]:\\[jump\\]\n",
    "* Only jump    **::2**\n",
    "* Only end    **:5**\n",
    "* Start and jump **2::-1**\n",
    "* End and Jump **:5:2**\n",
    "* Start, end and jump **2:7:3**\n",
    "\n",
    "\n",
    "#### 1.3.1 Remove n elements\n",
    "vec\\[:*-n*\\]"
   ]
  },
  {
   "cell_type": "code",
   "execution_count": 29,
   "metadata": {},
   "outputs": [
    {
     "name": "stdout",
     "output_type": "stream",
     "text": "Result of removing last 3 elements from range(10) : \n[0 1 2 3 4 5 6]\n\n"
    }
   ],
   "source": [
    "vec = np.arange(10)\n",
    "vec1 = vec[:-3]\n",
    "print ('Result of removing last 3 elements from range(10) : \\n%s\\n'%vec1)"
   ]
  },
  {
   "cell_type": "markdown",
   "metadata": {},
   "outputs": [],
   "source": [
    "#### 1.3.2 Access elements at even indices in a 1D array\n",
    "vec\\[::**2**\\]"
   ]
  },
  {
   "cell_type": "code",
   "execution_count": 30,
   "metadata": {},
   "outputs": [
    {
     "name": "stdout",
     "output_type": "stream",
     "text": "Original array is [ 0  3  6  9 12 15 18]\n\nElements at even indices are [ 0  6 12 18]\n\n"
    }
   ],
   "source": [
    "\n",
    "vec1 = np.arange(0,20,3)\n",
    "print ('Original array is %s\\n'%vec1)\n",
    "vec2 = vec1[::2]\n",
    "print ('Elements at even indices are %s\\n'%vec2)\n"
   ]
  },
  {
   "cell_type": "markdown",
   "metadata": {},
   "outputs": [],
   "source": [
    "#### 1.3.3 Access elements at indices in reverse order\n",
    "vec\\[::**-1**\\]"
   ]
  },
  {
   "cell_type": "code",
   "execution_count": 31,
   "metadata": {},
   "outputs": [
    {
     "name": "stdout",
     "output_type": "stream",
     "text": "Original array is [ 0  3  6  9 12 15 18]\n\nElements for indices in reverse is [18 15 12  9  6  3  0]\n\n"
    }
   ],
   "source": [
    "vec1 = np.arange(0,20,3)\n",
    "print ('Original array is %s\\n'%vec1)\n",
    "vec2 = vec1[::-1]\n",
    "print ('Elements for indices in reverse is %s\\n'%vec2)"
   ]
  },
  {
   "cell_type": "markdown",
   "metadata": {},
   "outputs": [],
   "source": [
    "#### 1.3.4 Access elements present for a range of indices\n",
    "vec\\[**a**:**b**\\]"
   ]
  },
  {
   "cell_type": "code",
   "execution_count": 32,
   "metadata": {},
   "outputs": [
    {
     "name": "stdout",
     "output_type": "stream",
     "text": "Original array is [ 0  3  6  9 12 15 18]\n\nElements for indices 2:5 is [ 6  9 12]\n\n"
    }
   ],
   "source": [
    "vec1 = np.arange(0,20,3)\n",
    "print ('Original array is %s\\n'%vec1)\n",
    "vec2 = vec1[2:5]\n",
    "print ('Elements for indices 2:5 is %s\\n'%vec2)"
   ]
  },
  {
   "cell_type": "markdown",
   "metadata": {},
   "outputs": [],
   "source": [
    "#### 1.3.5 Access a particular set of index given by a list\n",
    "vec\\[**idxlist**\\]"
   ]
  },
  {
   "cell_type": "code",
   "execution_count": 33,
   "metadata": {},
   "outputs": [
    {
     "name": "stdout",
     "output_type": "stream",
     "text": "Original array is [ 0  3  6  9 12 15 18]\n\nSubarray constructed by indices [0, 1, 5] is [ 0  3 15]\n\n"
    }
   ],
   "source": [
    "idx=[0,1,5]\n",
    "vec1 = np.arange(0,20,3)\n",
    "print ('Original array is %s\\n'%vec1)\n",
    "vec2 = vec1[idx]\n",
    "print ('Subarray constructed by indices %s is %s\\n'%(idx,vec2))"
   ]
  },
  {
   "cell_type": "markdown",
   "metadata": {},
   "outputs": [],
   "source": [
    "#### 1.3.6 Creating a submatrix"
   ]
  },
  {
   "cell_type": "code",
   "execution_count": 34,
   "metadata": {},
   "outputs": [
    {
     "name": "stdout",
     "output_type": "stream",
     "text": "Original Matrix is \n[[1 2 1 2 2]\n [1 2 3 1 4]\n [0 0 1 1 3]]\n\nSub Matrix with first 2 rows and last 2 columns is \n[[2 2]\n [1 4]]\n\nAfter flipping the columns of the matrix, it looks : \n[[2 2 1 2 1]\n [4 1 3 2 1]\n [3 1 1 0 0]]\n\n"
    }
   ],
   "source": [
    "mat = np.random.randint(0,6,(3,5))\n",
    "# Create a submatrix with first 2 rows and last 2 columns\n",
    "submat1 = mat[0:2,-2:]\n",
    "print ('Original Matrix is \\n%s\\n'%mat)\n",
    "print ('Sub Matrix with first 2 rows and last 2 columns is \\n%s\\n'%submat1)\n",
    "submat2 = mat[:,::-1]\n",
    "print ('After flipping the columns of the matrix, it looks : \\n%s\\n'%submat2)"
   ]
  },
  {
   "cell_type": "markdown",
   "metadata": {},
   "outputs": [],
   "source": [
    "#### 1.3.7 Horizontal Matrix splitting\n",
    "numpy.**hsplit**(ary, *indices_or_sections*)  \n",
    "  \n",
    "hsplit basically splits a matrix across the horizontal plane based on the indices. Do note that the ***number of rows*** always remains ***constant*** in each section after the horizontal splitting.\n",
    "\n",
    "![](img/1.3.7-hsplit-01.jpg)"
   ]
  },
  {
   "cell_type": "code",
   "execution_count": 35,
   "metadata": {},
   "outputs": [
    {
     "name": "stdout",
     "output_type": "stream",
     "text": "Original matrix of shape (3, 7), is \n[[0 5 5 3 2 4 4]\n [1 1 2 2 3 2 2]\n [1 5 1 5 0 4 3]]\n\nFirst split of shape (3, 4), is \n[[0 5 5 3]\n [1 1 2 2]\n [1 5 1 5]]\n\nSecond split of shape (3, 2), is \n[[2 4]\n [3 2]\n [0 4]]\n\nThird split of shape (3, 1), is \n[[4]\n [2]\n [3]]\n\n"
    }
   ],
   "source": [
    "mat = np.random.randint(0,6,(3,7))\n",
    "sp1,sp2,sp3 = np.hsplit(mat,[4,6])\n",
    "print ('Original matrix of shape %s, is \\n%s\\n'%(mat.shape,mat))\n",
    "print ('First split of shape %s, is \\n%s\\n'%(sp1.shape,sp1))\n",
    "print ('Second split of shape %s, is \\n%s\\n'%(sp2.shape,sp2))\n",
    "print ('Third split of shape %s, is \\n%s\\n'%(sp3.shape,sp3))"
   ]
  },
  {
   "cell_type": "markdown",
   "metadata": {},
   "outputs": [],
   "source": [
    "#### 1.3.8 Vertical Matrix Splitting\n",
    "numpy.**vsplit**(ary, *indices_or_sections*)  \n",
    "  \n",
    "vsplit is yet another operation which splits the matrix across the vertical plane based on the ***'rowwise split-index array'***. The ***number of columns*** always remain ***constant*** in each split."
   ]
  },
  {
   "cell_type": "code",
   "execution_count": 36,
   "metadata": {},
   "outputs": [
    {
     "name": "stdout",
     "output_type": "stream",
     "text": "Original matrix of shape (3, 7), is \n[[4 4 0 5 5 3 5]\n [0 0 0 3 2 2 1]\n [3 3 4 3 1 0 0]]\n\nFirst split of shape (1, 7), is \n[[4 4 0 5 5 3 5]]\n\nSecond split of shape (2, 7), is \n[[0 0 0 3 2 2 1]\n [3 3 4 3 1 0 0]]\n\n"
    }
   ],
   "source": [
    "mat = np.random.randint(0,6,(3,7))\n",
    "sp1,sp2 = np.vsplit(mat,[1])\n",
    "print ('Original matrix of shape %s, is \\n%s\\n'%(mat.shape,mat))\n",
    "print ('First split of shape %s, is \\n%s\\n'%(sp1.shape,sp1))\n",
    "print ('Second split of shape %s, is \\n%s\\n'%(sp2.shape,sp2))"
   ]
  },
  {
   "cell_type": "markdown",
   "metadata": {},
   "outputs": [],
   "source": [
    "> ### *Class Assignment for 1.1 to 1.3*\n",
    "\n",
    "> 1. Create a matrix of size (2,3) with random binary values\n",
    "> 2. Find the sum of all 2x2 blocks (overlapping) for a random integer matrix of size (3,5) "
   ]
  },
  {
   "cell_type": "markdown",
   "metadata": {},
   "outputs": [],
   "source": [
    "## 1.4. Understanding - Pass By Reference \n",
    "Just like python lists, Numpy also exhibits default pass-by-reference behavior\n",
    "![Pass by reference Illustration](img/1.4-pass-by-reference-01.jpg)"
   ]
  },
  {
   "cell_type": "code",
   "execution_count": 37,
   "metadata": {},
   "outputs": [
    {
     "name": "stdout",
     "output_type": "stream",
     "text": "Memory Location of mat1[0] is : 94576342424512\n\nMemory Location of mat1[1] is : 94576342424536\n\nDifference in Memory Location for 3 elements  is : 24 bytes\n\nMemory jump = 8 bytes\n"
    }
   ],
   "source": [
    "mat1 = np.random.random((2,3))\n",
    "pt1 = mat1[0].__array_interface__['data'][0]\n",
    "print ('Memory Location of mat1[0] is : %s\\n'%pt1)\n",
    "pt2 = mat1[1].__array_interface__['data'][0]\n",
    "print ('Memory Location of mat1[1] is : %s\\n'%pt2)\n",
    "print ('Difference in Memory Location for 3 elements  is : %s bytes\\n'%(pt2-pt1))\n",
    "print ('Memory jump = 8 bytes')\n"
   ]
  },
  {
   "cell_type": "markdown",
   "metadata": {},
   "outputs": [],
   "source": [
    "#### 1.4.1 Experiment : Change the value of array by Reference"
   ]
  },
  {
   "cell_type": "code",
   "execution_count": 38,
   "metadata": {},
   "outputs": [
    {
     "name": "stdout",
     "output_type": "stream",
     "text": "Value of v, after v1 is modified is [10  2  3]\n\nValue of v after func(v) is modified is [10  2  3]\n\nValue of v after v.copy() is modified is [1 2 3]\n\n"
    }
   ],
   "source": [
    "def identity(elem):\n",
    "    return elem\n",
    "v = np.array([1,2,3])\n",
    "v1 = v # Copy by reference\n",
    "v1[0]=10\n",
    "print ('Value of v, after v1 is modified is %s\\n'%v)\n",
    "# Pass by Function \n",
    "v = np.array([1,2,3])\n",
    "v1 = identity(v) # Copy by reference\n",
    "v1[0]=10\n",
    "print ('Value of v after func(v) is modified is %s\\n'%v)\n",
    "v = np.array([1,2,3])\n",
    "v1 = v.copy() # Copy by reference\n",
    "v1[0]=10\n",
    "print ('Value of v after v.copy() is modified is %s\\n'%v)"
   ]
  },
  {
   "cell_type": "markdown",
   "metadata": {},
   "outputs": [],
   "source": [
    "#### 1.4.2 Experiment : Change the value of matrices by Reference"
   ]
  },
  {
   "cell_type": "code",
   "execution_count": 39,
   "metadata": {},
   "outputs": [
    {
     "name": "stdout",
     "output_type": "stream",
     "text": "Original Matrix is \n[[1 2 3]\n [4 5 6]\n [7 8 9]]\n\n Matrix with 10 added to even indices is \n[[11 13]\n [17 19]]\n\n"
    }
   ],
   "source": [
    "mat = np.array([[1,2,3],[4,5,6],[7,8,9]])\n",
    "print ('Original Matrix is \\n%s\\n'%mat)\n",
    "\n",
    "#1 Add 10 to all the even indexes in matrix\n",
    "mat = np.array([[1,2,3],[4,5,6],[7,8,9]])\n",
    "mat1 = mat[::2,::2]\n",
    "mat1 += 10\n",
    "print (' Matrix with 10 added to even indices is \\n%s\\n'%mat1)\n",
    "# Changes in mat1 are reflected in mat. This happens because the default assignment in numpy is 'pass by reference'"
   ]
  },
  {
   "cell_type": "markdown",
   "metadata": {},
   "outputs": [],
   "source": [
    "> **Note :** mat1+=10 is different from mat1 = mat1+10, as a new space is allocated for mat1 in the latter case."
   ]
  },
  {
   "cell_type": "markdown",
   "metadata": {},
   "outputs": [],
   "source": [
    "## 1.5 Broadcast Operation in Numpy\n",
    "Broadcast Operation is like a razor-sharp knife, to be used with great care. It is a way to ***broadcast*** data of lower or same  dimension onto another ndarray. It is similar to ***map*** operation in python, scala, hadoop.  Broadcast rules are not limited to 2D array. There are extremely specific set of rules for nd-array broadcasting. You can visit ***[numpy documentation on broadcasting](https://docs.scipy.org/doc/numpy-1.13.0/user/basics.broadcasting.html)*** to get the complete picture. However, we will be restricting the discussion to only 2D-matrices.\n",
    "\n",
    "![Visualization of broadcast Operation for Matrix](img/1.5-broadcast-01.jpg)"
   ]
  },
  {
   "cell_type": "code",
   "execution_count": 40,
   "metadata": {},
   "outputs": [
    {
     "name": "stdout",
     "output_type": "stream",
     "text": "mat is \n[[2 5 0 0 0]\n [5 3 4 1 2]\n [0 1 2 2 0]]\n\nv is \n[10 20 30 40 50]\n\nmat+1 is \n[[3 6 1 1 1]\n [6 4 5 2 3]\n [1 2 3 3 1]]\n\nmat+v is \n[[12 25 30 40 50]\n [15 23 34 41 52]\n [10 21 32 42 50]]\n\nmat*v is \n[[ 20 100   0   0   0]\n [ 50  60 120  40 100]\n [  0  20  60  80   0]]\n\nmat+mat is \n[[ 4 10  0  0  0]\n [10  6  8  2  4]\n [ 0  2  4  4  0]]\n\nmat*mat is \n[[ 4 25  0  0  0]\n [25  9 16  1  4]\n [ 0  1  4  4  0]]\n\n"
    }
   ],
   "source": [
    "mat = np.random.randint(0,6,(3,5))\n",
    "print ('mat is \\n%s\\n'%mat)\n",
    "v = np.array([10,20,30,40,50])\n",
    "print ('v is \\n%s\\n'%v)\n",
    "print ('mat+1 is \\n%s\\n'%(mat+1)) # Similar behaviour in case of np.array([1])\n",
    "print ('mat+v is \\n%s\\n'%(mat+v))\n",
    "print ('mat*v is \\n%s\\n'%(mat*v))\n",
    "print ('mat+mat is \\n%s\\n'%(mat+mat))\n",
    "print ('mat*mat is \\n%s\\n'%(mat*mat))\n"
   ]
  },
  {
   "cell_type": "markdown",
   "metadata": {},
   "outputs": [],
   "source": [
    "## 1.6 Matrix Operations \n",
    "There are two major matix Operations which are important for us.\n",
    "\n",
    "1. Inner Product\n",
    "  * Vector Vector\n",
    "  * Matrix Vector \n",
    "  * Matrix Matrix\n",
    "2. Outer product\n",
    "\n",
    "#### 1.6.1 Inner Product\n",
    "In terms of Inner Product or Dot product, <v,w> will be be nothing but sum of element wise product.\n",
    "$$<v,w> = \\sum v_i*w_i = \\begin{bmatrix} v_0 & v_1 & \\cdots & v_n \\end{bmatrix}\\begin{bmatrix} w_0 \\\\ w_1 \\\\ \\cdots \\\\ w_n \\end{bmatrix}$$\n",
    "So, the dot product between vector $v=[1,2,3]$ and  $w=[2,4,6]$ will be \n",
    "$$\\begin{align}1*2 + 2*4 + 3*6 \\\\ 2+8+18 \\\\ 28\\end{align}$$  \n",
    "We will be covering matrix matrix multiplication in much depth in next-to-next chapter, but you can take it for granted as of now.\n",
    "#### 1.6.2 Outer Product\n",
    "The **outer product** on other end is \n",
    "$$\\begin{bmatrix} v_0 \\\\ v_1 \\\\ \\cdots \\\\ v_n \\end{bmatrix}\\begin{bmatrix} w_0 & w_1 & \\cdots & w_n \\end{bmatrix} = \\begin{bmatrix}v_0w_0 & \\cdots & v_0w_j & \\cdots & v_0w_n \\\\ \\vdots && \\vdots && \\vdots \\\\ v_iw_0 & \\cdots & v_iw_j & \\cdots & v_iw_n \\\\ \\vdots && \\vdots && \\vdots \\\\ v_nw_0 & \\cdots & v_nw_j & \\cdots & v_nw_n    \\end{bmatrix} $$"
   ]
  },
  {
   "cell_type": "code",
   "execution_count": 41,
   "metadata": {},
   "outputs": [
    {
     "name": "stdout",
     "output_type": "stream",
     "text": "Vector v1 is [1 2 3]\n\nVector v2 is [2 4 6]\n\nVector Vector dot product is <v1,v2> is 28\n\n---------------\n\nMatrix is\n[[0 1 2]\n [3 4 5]\n [6 7 8]]\n\nVector v2 is\n[1 2 3]\n\nMatrix Vector product is <mat,vec1> is \n[ 8 26 44]\n\nMatrix Matrix multiplication is <mat,mat> is \n[[ 15  18  21]\n [ 42  54  66]\n [ 69  90 111]]\n\n---------------\n\nVector v1 is [1 2 3]\n\nVector v2 is [2 4 6]\n\nVector Vector outer product is <v1,v2> is \n[[ 2  4  6]\n [ 4  8 12]\n [ 6 12 18]]\n\n"
    }
   ],
   "source": [
    "mat = np.arange(9).reshape(3,3)\n",
    "vec1 = np.array([1,2,3])\n",
    "vec2 = np.array([2,4,6])\n",
    "print ('Vector v1 is %s\\n'%vec1)\n",
    "print ('Vector v2 is %s\\n'%vec2)\n",
    "print ('Vector Vector dot product is <v1,v2> is %s\\n'%np.dot(vec1,vec2))\n",
    "print ('---------------\\n')\n",
    "\n",
    "print ('Matrix is\\n%s\\n'%mat)\n",
    "print ('Vector v2 is\\n%s\\n'%vec1)\n",
    "\n",
    "print ('Matrix Vector product is <mat,vec1> is \\n%s\\n'%np.dot(mat,vec1))\n",
    "print ('Matrix Matrix multiplication is <mat,mat> is \\n%s\\n'%np.dot(mat,mat))\n",
    "print ('---------------\\n')\n",
    "\n",
    "print ('Vector v1 is %s\\n'%vec1)\n",
    "print ('Vector v2 is %s\\n'%vec2)\n",
    "print ('Vector Vector outer product is <v1,v2> is \\n%s\\n'%np.outer(vec1,vec2))\n"
   ]
  },
  {
   "cell_type": "markdown",
   "metadata": {},
   "outputs": [],
   "source": [
    "## 1.7 Statistical Functions\n",
    "1. np.**mean**(data,axis=0)\n",
    "2. np.**var**(data,axis=0)\n",
    "3. np.**sum**(data,axis=0)\n",
    "4. np.**max**(data,axis=0)\n",
    "5. np.**min**(data,axis=0)\n",
    "6. np.**percentile**(data, percentage,axis=0)"
   ]
  },
  {
   "cell_type": "code",
   "execution_count": 42,
   "metadata": {},
   "outputs": [
    {
     "name": "stdout",
     "output_type": "stream",
     "text": "Original matrix is \n[[0 1 2]\n [3 4 5]\n [6 7 8]]\n\nOverall mean of matrix is \n4.0\n\nRow mean of matrix is \n[3. 4. 5.]\n\nColumn mean of matrix is \n[1. 4. 7.]\n\n---------------------------\n\nOverall varience of matrix is 6.666666666666667\n\nOverall sum of matrix is 36\n\nOverall min of matrix is 0\n\nOverall max of matrix is 8\n\n-------------------------------------\n\nMarks = [ 30  31  32  40  90  95  97  98  99 100]\n\nOverall 30 percent quantile of marks is 37.599999999999994\n\n"
    }
   ],
   "source": [
    "\n",
    "mat = np.arange(9).reshape((3,3))\n",
    "print ('Original matrix is \\n%s\\n'%mat)\n",
    "print ('Overall mean of matrix is \\n%s\\n'%np.mean(mat))\n",
    "print ('Row mean of matrix is \\n%s\\n'%np.mean(mat, axis=0))\n",
    "print ('Column mean of matrix is \\n%s\\n'%np.mean(mat, axis=1))\n",
    "print ('---------------------------\\n')\n",
    "print ('Overall varience of matrix is %s\\n'%np.var(mat))\n",
    "print ('Overall sum of matrix is %s\\n'%np.sum(mat))\n",
    "print ('Overall min of matrix is %s\\n'%np.min(mat))\n",
    "print ('Overall max of matrix is %s\\n'%np.max(mat))\n",
    "\n",
    "print ('-------------------------------------\\n')\n",
    "marks = np.array([30,31,32,40,90,95,97,98,99,100])\n",
    "print ('Marks = %s\\n'%marks)\n",
    "print ('Overall 30 percent quantile of marks is %s\\n'%(str(np.percentile(marks,30))))\n"
   ]
  },
  {
   "cell_type": "markdown",
   "metadata": {},
   "outputs": [],
   "source": [
    "## 1.8 Miscellenous Functions\n",
    "In this section, we will be discussing some important miscellenous Functions which come in handy for matrix manipulation.\n",
    "#### 1.8.1 squeeze\n",
    "numpy.**squeeze**(a,axis=None)\n",
    "  \n",
    "This function tries to reduce the excess dimensions which have only 1 element. If we print the shape of the ndary, these excess dimension will have a 1 in that particular dimension's index. For example, a nd-matrix with shape (1,2,3,1), has $0^{th}$ and $3^{rd}$ dimension as excess."
   ]
  },
  {
   "cell_type": "code",
   "execution_count": 43,
   "metadata": {},
   "outputs": [
    {
     "name": "stdout",
     "output_type": "stream",
     "text": "Original Shape of ndmat is (1, 2, 3, 1)\n\nShape of np.squeeze(ndmat) is (2, 3)\n\nShape of np.squeeze(ndmat,axis=3) is (1, 2, 3)\n\n"
    }
   ],
   "source": [
    "ndmat = np.zeros(shape=(1,2,3,1))\n",
    "print ('Original Shape of ndmat is %s\\n'%str(ndmat.shape))\n",
    "ndmat1 = np.squeeze(ndmat)\n",
    "print ('Shape of np.squeeze(ndmat) is %s\\n'%str(ndmat1.shape))\n",
    "ndmat2 = np.squeeze(ndmat,axis=3)\n",
    "print ('Shape of np.squeeze(ndmat,axis=3) is %s\\n'%str(ndmat2.shape))\n",
    "\n"
   ]
  },
  {
   "cell_type": "markdown",
   "metadata": {},
   "outputs": [],
   "source": [
    "#### 1.8.2 transpose\n",
    "numpy.**transpose**(a, *axes=None*) \n",
    " \n",
    "This function reverses the axes for 2D array.  \n",
    "For multidimensional array, it permutes the matrix according to the axis argument.\n"
   ]
  },
  {
   "cell_type": "code",
   "execution_count": 44,
   "metadata": {},
   "outputs": [
    {
     "name": "stdout",
     "output_type": "stream",
     "text": "Original Shape of 2D matrix is (2, 3)\n\nShape of np.transpose(mat) is (3, 2)\n\nnp.transpose is by yet again assignment by reference, as changes in transpose reflects in the original matrix\n\n---------------------------------\n\nOriginal Shape of nDimensional matrix is (2, 3, 4)\n\nShape of np.transpose(ndmat) is (4, 3, 2)\n\nShape of np.transpose(ndmat, axes=[0,2,1]) is (2, 4, 3)\n\n"
    }
   ],
   "source": [
    "mat = np.zeros(shape=(2,3))\n",
    "print ('Original Shape of 2D matrix is %s\\n'%str(mat.shape))\n",
    "mat_transpose = np.transpose(mat)\n",
    "print ('Shape of np.transpose(mat) is %s\\n'%str(mat_transpose.shape))\n",
    "mat_transpose[1,0] = 1\n",
    "print ('np.transpose is by yet again assignment by reference, as changes in transpose reflects in the original matrix\\n')\n",
    "print ('---------------------------------\\n')\n",
    "# NDimensional matrix\n",
    "ndmat = np.zeros(shape=(2,3,4))\n",
    "print ('Original Shape of nDimensional matrix is %s\\n'%str(ndmat.shape))\n",
    "ndmat_transpose = np.transpose(ndmat)\n",
    "print ('Shape of np.transpose(ndmat) is %s\\n'%str(ndmat_transpose.shape))\n",
    "ndmat_special_transpose = np.transpose(ndmat, axes = [0,2,1])\n",
    "print ('Shape of np.transpose(ndmat, axes=[0,2,1]) is %s\\n'%str(ndmat_special_transpose.shape))\n"
   ]
  },
  {
   "cell_type": "markdown",
   "metadata": {},
   "outputs": [],
   "source": [
    "# Chapter 1 Assignment\n",
    "1. Create a null array of size 10 but the fifth value which is 1\n",
    "2. Reverse a above created array (first element becomes last)\n",
    "3. Create a 3x3 matrix with values ranging from 0 to 8\n",
    "4. Find indices of non-zero elements from [1,2,0,0,4,0]\n",
    "5. Create a 3x3x3 array with random values\n",
    "6. Create a 10x10 array with random values and find the minimum and maximum values\n",
    "7. Create a random vector of size 30 and find the mean value\n",
    "8. Create a 2d array with 1 on the border and 0 inside\n",
    "9. Multiply a 5x3 matrix by a 3x2 matrix (real matrix product)\n",
    "10. Extract the integer part of a random array\n",
    "11. Create a 5x5 matrix with row values ranging from 0 to 4\n",
    "12. Create a random vector of size 10 and sort it\n",
    "13. Consider two random array A anb B, check if they are equal\n",
    "14. How to tell if a given 2D array has null columns?\n",
    "15. Considering a four dimensions array, how to get sum over the last two axis at once?\n",
    "16. Consider an array of dimension (5,5,3), how to mulitply it by an array with dimensions (5,5)?\n",
    "17. Extract all the contiguous 3x3 blocks from a random 10x10 matrix\n",
    "18. Consider a 16x16 array, how to get the block-sum (block size is 4x4)?"
   ]
  },
  {
   "cell_type": "code",
   "execution_count": null,
   "metadata": {},
   "outputs": [],
   "source": []
  }
 ],
 "metadata": {
  "kernelspec": {
   "display_name": "Python 3",
   "language": "python",
   "name": "python3"
  },
  "language_info": {
   "codemirror_mode": {
    "name": "ipython",
    "version": 3
   },
   "file_extension": ".py",
   "mimetype": "text/x-python",
   "name": "python",
   "nbconvert_exporter": "python",
   "pygments_lexer": "ipython3",
   "version": "3.7.1"
  }
 },
 "nbformat": 4,
 "nbformat_minor": 2
}